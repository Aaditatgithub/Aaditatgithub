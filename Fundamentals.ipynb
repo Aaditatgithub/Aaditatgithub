{
  "nbformat": 4,
  "nbformat_minor": 0,
  "metadata": {
    "colab": {
      "provenance": [],
      "authorship_tag": "ABX9TyOkEn2Ur4e/1bolurq3p6P3",
      "include_colab_link": true
    },
    "kernelspec": {
      "name": "python3",
      "display_name": "Python 3"
    },
    "language_info": {
      "name": "python"
    }
  },
  "cells": [
    {
      "cell_type": "markdown",
      "metadata": {
        "id": "view-in-github",
        "colab_type": "text"
      },
      "source": [
        "<a href=\"https://colab.research.google.com/github/Aaditatgithub/Aaditatgithub/blob/main/Fundamentals.ipynb\" target=\"_parent\"><img src=\"https://colab.research.google.com/assets/colab-badge.svg\" alt=\"Open In Colab\"/></a>"
      ]
    },
    {
      "cell_type": "markdown",
      "source": [],
      "metadata": {
        "id": "7sQc3q_bRpZo"
      }
    },
    {
      "cell_type": "markdown",
      "source": [
        "# **GETTING STARTED**\n",
        "1. Resource Notebook: https://www.learnpytorch.io/00_pytorch_fundamentals/\n",
        "2. Pytorch Docs: https://pytorch.org/docs/stable/index.html\n",
        "3. Domain specific docs: https://pytorch.org/pytorch-domains\n",
        "\n",
        "\n"
      ],
      "metadata": {
        "id": "BJZLdJxmGcNr"
      }
    },
    {
      "cell_type": "code",
      "execution_count": null,
      "metadata": {
        "id": "rYwoA-kmGa1b",
        "colab": {
          "base_uri": "https://localhost:8080/"
        },
        "outputId": "83595f87-8a98-469a-bd81-19ecf5d634e5"
      },
      "outputs": [
        {
          "output_type": "stream",
          "name": "stdout",
          "text": [
            "2.3.0+cu121\n"
          ]
        }
      ],
      "source": [
        "import torch\n",
        "import numpy as np\n",
        "import pandas as pd\n",
        "import matplotlib.pyplot as plt\n",
        "print(torch.__version__)"
      ]
    },
    {
      "cell_type": "markdown",
      "source": [
        "# Introduction to Tensors\n",
        "https://pytorch.org/docs/stable/tensors.html"
      ],
      "metadata": {
        "id": "frXTFAm4SBWW"
      }
    },
    {
      "cell_type": "code",
      "source": [
        "#scalar\n",
        "scalar = torch.tensor(7)\n",
        "scalar"
      ],
      "metadata": {
        "colab": {
          "base_uri": "https://localhost:8080/"
        },
        "id": "oSVlzRnXPiLV",
        "outputId": "fa042b1a-ae41-4176-8675-a4951ff8d8d1"
      },
      "execution_count": null,
      "outputs": [
        {
          "output_type": "execute_result",
          "data": {
            "text/plain": [
              "tensor(7)"
            ]
          },
          "metadata": {},
          "execution_count": 5
        }
      ]
    },
    {
      "cell_type": "code",
      "source": [
        "scalar.ndim\n",
        "\n",
        "#Get number out of tensor (make int)\n",
        "scalar.item()\n",
        "\n",
        "#Tensor rank 1\n",
        "vector = torch.tensor([7,7])\n",
        "vector.ndim\n",
        "\n",
        "#Tensor rank 2\n",
        "tensor_rank2 = torch.tensor([[7,8],[9,10]])\n",
        "tensor_rank2.ndim\n",
        "\n",
        "tensor_rank2.shape"
      ],
      "metadata": {
        "colab": {
          "base_uri": "https://localhost:8080/"
        },
        "id": "dO4VmQC8SzBT",
        "outputId": "d50d4a58-dda6-4c9c-ff1d-06fa80213fbd"
      },
      "execution_count": null,
      "outputs": [
        {
          "output_type": "execute_result",
          "data": {
            "text/plain": [
              "torch.Size([2, 2])"
            ]
          },
          "metadata": {},
          "execution_count": 12
        }
      ]
    },
    {
      "cell_type": "markdown",
      "source": [
        "### Random Tensors\n",
        "Why random tensors? Cuz many NNs start with random tensors and then change them to better represent the data."
      ],
      "metadata": {
        "id": "--OhC8bbWWrP"
      }
    },
    {
      "cell_type": "code",
      "source": [
        "random_tensor = torch.rand(3,4)\n",
        "random_tensor\n",
        "\n",
        "#Of a specific size\n",
        "random_tensor_size = torch.rand(size=(2,3,4))\n",
        "random_tensor_size\n",
        "\n",
        "#image of 224x224 with rGB params\n",
        "random_image_tensor = torch.rand(size=(224,224,3))\n",
        "random_image_tensor"
      ],
      "metadata": {
        "colab": {
          "base_uri": "https://localhost:8080/"
        },
        "collapsed": true,
        "id": "myFbWVFkWb_u",
        "outputId": "9cc27986-f6d1-4142-d681-2aa1f8d2f8a9"
      },
      "execution_count": null,
      "outputs": [
        {
          "output_type": "execute_result",
          "data": {
            "text/plain": [
              "tensor([[[5.4679e-01, 5.2119e-01, 4.9080e-01],\n",
              "         [9.8274e-01, 9.4984e-01, 8.4333e-01],\n",
              "         [4.1373e-01, 2.0425e-02, 1.2360e-02],\n",
              "         ...,\n",
              "         [1.3867e-01, 5.2153e-02, 2.9373e-01],\n",
              "         [8.9104e-01, 5.4918e-01, 6.8810e-02],\n",
              "         [5.4946e-01, 3.5135e-01, 8.5742e-01]],\n",
              "\n",
              "        [[1.1850e-01, 6.3238e-02, 3.9134e-02],\n",
              "         [3.1177e-01, 8.1306e-01, 5.3953e-01],\n",
              "         [5.3403e-01, 8.0928e-01, 4.3053e-01],\n",
              "         ...,\n",
              "         [5.4054e-01, 7.6945e-01, 6.2914e-03],\n",
              "         [5.6111e-01, 3.5224e-01, 1.1391e-02],\n",
              "         [2.7440e-01, 1.8861e-01, 6.2930e-01]],\n",
              "\n",
              "        [[9.5991e-01, 6.9038e-01, 8.6203e-01],\n",
              "         [2.3724e-01, 2.2269e-02, 1.8140e-01],\n",
              "         [3.5943e-01, 9.9097e-01, 8.4723e-01],\n",
              "         ...,\n",
              "         [3.0307e-01, 4.3513e-01, 4.4449e-01],\n",
              "         [2.8934e-01, 7.1559e-01, 1.9357e-02],\n",
              "         [3.3922e-01, 9.9705e-01, 9.2587e-01]],\n",
              "\n",
              "        ...,\n",
              "\n",
              "        [[1.4765e-01, 6.8796e-04, 5.9607e-01],\n",
              "         [6.4817e-01, 4.6355e-01, 5.7454e-01],\n",
              "         [4.0448e-01, 1.6216e-01, 7.8894e-01],\n",
              "         ...,\n",
              "         [6.0970e-01, 5.3354e-01, 4.2228e-01],\n",
              "         [5.6641e-01, 9.3086e-01, 8.0434e-01],\n",
              "         [6.7015e-01, 7.0431e-01, 6.4879e-01]],\n",
              "\n",
              "        [[1.6319e-01, 1.9326e-02, 1.8098e-01],\n",
              "         [6.9269e-01, 9.6696e-01, 8.0261e-01],\n",
              "         [3.5242e-01, 9.3953e-01, 9.8543e-02],\n",
              "         ...,\n",
              "         [4.9705e-01, 7.4930e-01, 3.7635e-01],\n",
              "         [7.7500e-01, 9.5555e-01, 7.7139e-01],\n",
              "         [6.8887e-01, 5.5757e-01, 2.7308e-01]],\n",
              "\n",
              "        [[6.3941e-01, 9.3837e-02, 3.0216e-01],\n",
              "         [7.7053e-01, 7.6514e-01, 7.2664e-01],\n",
              "         [3.2100e-01, 8.8851e-01, 7.6667e-01],\n",
              "         ...,\n",
              "         [2.2111e-01, 7.8553e-01, 3.1030e-01],\n",
              "         [5.6553e-01, 4.7981e-01, 9.8364e-01],\n",
              "         [7.6115e-02, 8.5283e-01, 2.4682e-01]]])"
            ]
          },
          "metadata": {},
          "execution_count": 17
        }
      ]
    },
    {
      "cell_type": "code",
      "source": [
        "zeros = torch.zeros(size = (3,4))\n",
        "zeros*random_tensor_size\n",
        "\n",
        "ones = torch.ones(size = (4,5))\n",
        "\n",
        "#datatype of numbers in ones\n",
        "ones.dtype"
      ],
      "metadata": {
        "colab": {
          "base_uri": "https://localhost:8080/"
        },
        "id": "BEZlFxc2W3Le",
        "outputId": "6a29ac35-6464-4e1b-86d3-a4d15677e715"
      },
      "execution_count": null,
      "outputs": [
        {
          "output_type": "execute_result",
          "data": {
            "text/plain": [
              "torch.float32"
            ]
          },
          "metadata": {},
          "execution_count": 22
        }
      ]
    },
    {
      "cell_type": "code",
      "source": [
        "#Range of Tensors\n",
        "torch.arange(0,10)\n",
        "torch.arange(start=0,end=10,step=2)"
      ],
      "metadata": {
        "colab": {
          "base_uri": "https://localhost:8080/"
        },
        "id": "MMcUWdiHbvU3",
        "outputId": "e328e288-df58-43e9-e088-5cbc037d0ff4"
      },
      "execution_count": null,
      "outputs": [
        {
          "output_type": "execute_result",
          "data": {
            "text/plain": [
              "tensor([0, 2, 4, 6, 8])"
            ]
          },
          "metadata": {},
          "execution_count": 25
        }
      ]
    },
    {
      "cell_type": "markdown",
      "source": [],
      "metadata": {
        "id": "-iRAxWb-Gbco"
      }
    }
  ]
}